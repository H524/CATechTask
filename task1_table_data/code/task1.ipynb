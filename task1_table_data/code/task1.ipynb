{
  "nbformat": 4,
  "nbformat_minor": 0,
  "metadata": {
    "colab": {
      "provenance": [],
      "authorship_tag": "ABX9TyPUPtOga8kmpGcBV9K9QGMT",
      "include_colab_link": true
    },
    "kernelspec": {
      "name": "python3",
      "display_name": "Python 3"
    },
    "language_info": {
      "name": "python"
    }
  },
  "cells": [
    {
      "cell_type": "markdown",
      "metadata": {
        "id": "view-in-github",
        "colab_type": "text"
      },
      "source": [
        "<a href=\"https://colab.research.google.com/github/H524/CATechTask/blob/main/task1_table_data/code/task1.ipynb\" target=\"_parent\"><img src=\"https://colab.research.google.com/assets/colab-badge.svg\" alt=\"Open In Colab\"/></a>"
      ]
    },
    {
      "cell_type": "code",
      "source": [
        "# import\n",
        "\n",
        "# dataset\n",
        "from sklearn import datasets\n",
        "\n",
        "# util\n",
        "from sklearn.model_selection import train_test_split\n",
        "from sklearn.linear_model import LinearRegression\n",
        "# from sklearn.metrics import accuracy_score\n",
        "# from sklearn.metrics import precision_score\n",
        "# from sklearn.metrics import recall_score\n",
        "from sklearn.metrics import classification_report\n",
        "import pandas as pd\n",
        "import numpy as np\n",
        "\n",
        "# model\n",
        "# SVM\n",
        "from sklearn import svm\n",
        "\n",
        "# random forest\n",
        "from sklearn.ensemble import RandomForestClassifier"
      ],
      "metadata": {
        "id": "rh30YIXXEDwy"
      },
      "execution_count": 31,
      "outputs": []
    },
    {
      "cell_type": "code",
      "source": [
        "# load\n",
        "dataset = datasets.fetch_covtype()\n",
        "x_train, x_test, t_train, t_test = train_test_split(dataset.data, dataset.target, test_size=0.3, random_state=0)"
      ],
      "metadata": {
        "id": "hZm9V650HF95"
      },
      "execution_count": 2,
      "outputs": []
    },
    {
      "cell_type": "code",
      "execution_count": null,
      "metadata": {
        "id": "4XiALS-l_XwK"
      },
      "outputs": [],
      "source": [
        "\n",
        "\n",
        "# dataset = datasets.fetch_covtype()\n",
        "# x = dataset.data\n",
        "# t = dataset.target\n",
        "\n",
        "# x_train, x_test, t_train, t_test = train_test_split(x, t, test_size=0.3, random_state=0)\n",
        "\n",
        "# clf = svm.SVC(kernel='linear', C=1).fit(x_train, t_train)\n",
        "# clf.score(x_test, t_test)\n",
        "\n",
        "# reg_model = LinearRegression()\n",
        "\n",
        "# reg_model.fit(x_train, t_train)\n",
        "\n",
        "\n",
        "\n",
        "# print(reg_model.score(x_train, t_train))"
      ]
    },
    {
      "cell_type": "code",
      "source": [
        "# main random forest\n",
        "randomforest = RandomForestClassifier()\n",
        "randomforest.fit(x_train, t_train)\n",
        "pred = randomforest.predict(x_test)"
      ],
      "metadata": {
        "id": "adx-MrJsG8sQ"
      },
      "execution_count": 3,
      "outputs": []
    },
    {
      "cell_type": "code",
      "source": [
        "# score = accuracy_score(t_test, pred)\n",
        "# print('正解率:')\n",
        "# print(score)\n",
        "\n",
        "# print('適合率')\n",
        "# print(precision_score(t_test, pred, average=\"macro\"))\n",
        "\n",
        "# print('再現率')\n",
        "# print(recall_score(t_test, pred, average=\"macro\"))\n",
        "\n",
        "print('レポート')\n",
        "print(classification_report(t_test, pred))"
      ],
      "metadata": {
        "id": "ukc3pLBD31Ie",
        "outputId": "f0701516-e429-472d-f66c-a6511e309c8f",
        "colab": {
          "base_uri": "https://localhost:8080/"
        }
      },
      "execution_count": 32,
      "outputs": [
        {
          "output_type": "stream",
          "name": "stdout",
          "text": [
            "正解率:\n",
            "0.9526230034881586\n",
            "適合率\n",
            "0.9444723997928909\n",
            "再現率\n",
            "0.9038576059265251\n",
            "レポート\n",
            "              precision    recall  f1-score   support\n",
            "\n",
            "           1       0.96      0.94      0.95     63498\n",
            "           2       0.95      0.97      0.96     85198\n",
            "           3       0.94      0.96      0.95     10581\n",
            "           4       0.92      0.84      0.88       822\n",
            "           5       0.94      0.77      0.85      2850\n",
            "           6       0.93      0.90      0.91      5229\n",
            "           7       0.97      0.95      0.96      6126\n",
            "\n",
            "    accuracy                           0.95    174304\n",
            "   macro avg       0.94      0.90      0.92    174304\n",
            "weighted avg       0.95      0.95      0.95    174304\n",
            "\n"
          ]
        }
      ]
    },
    {
      "cell_type": "code",
      "source": [
        "from google.colab import drive\n",
        "drive.mount('/content/drive')"
      ],
      "metadata": {
        "id": "Nzx6SabmChxP",
        "outputId": "ccd1616d-3b1d-4da3-f5f2-adeb5754e6d0",
        "colab": {
          "base_uri": "https://localhost:8080/"
        }
      },
      "execution_count": 17,
      "outputs": [
        {
          "output_type": "stream",
          "name": "stdout",
          "text": [
            "Mounted at /content/drive\n"
          ]
        }
      ]
    },
    {
      "cell_type": "code",
      "source": [
        "%cd /content/drive/My Drive/Colab Notebooks"
      ],
      "metadata": {
        "id": "in3L16_kC2KW",
        "outputId": "82341af0-1535-427d-b3f5-92c610aabd8c",
        "colab": {
          "base_uri": "https://localhost:8080/"
        }
      },
      "execution_count": 20,
      "outputs": [
        {
          "output_type": "stream",
          "name": "stdout",
          "text": [
            "/content/drive/My Drive/Colab Notebooks\n"
          ]
        }
      ]
    },
    {
      "cell_type": "code",
      "source": [
        "# output\n",
        "# print(pred)\n",
        "# clf.score(x_test, t_test)\n",
        "\n",
        "# reg_model = LinearRegression()\n",
        "\n",
        "# reg_model.fit(x_train, t_train)\n",
        "\n",
        "\n",
        "\n",
        "# print(reg_model.score(x_train, t_train))\n",
        "\n",
        "# from google.colab import files\n",
        "\n",
        "filename = 'output.csv'\n",
        "# with open(filename, 'w') as f:\n",
        "#   f.write(a)\n",
        "\n",
        "# files.download(filename)\n",
        "\n",
        "np.savetxt(filename, x_test) "
      ],
      "metadata": {
        "id": "PuV5nuDvEE_B",
        "outputId": "7d9d50f2-32f0-4cf5-dbff-7fe8084fb8df",
        "colab": {
          "base_uri": "https://localhost:8080/",
          "height": 368
        }
      },
      "execution_count": 33,
      "outputs": [
        {
          "output_type": "error",
          "ename": "ValueError",
          "evalue": "ignored",
          "traceback": [
            "\u001b[0;31m---------------------------------------------------------------------------\u001b[0m",
            "\u001b[0;31mValueError\u001b[0m                                Traceback (most recent call last)",
            "\u001b[0;32m<ipython-input-33-56edf40573a5>\u001b[0m in \u001b[0;36m<cell line: 21>\u001b[0;34m()\u001b[0m\n\u001b[1;32m     19\u001b[0m \u001b[0;31m# files.download(filename)\u001b[0m\u001b[0;34m\u001b[0m\u001b[0;34m\u001b[0m\u001b[0m\n\u001b[1;32m     20\u001b[0m \u001b[0;34m\u001b[0m\u001b[0m\n\u001b[0;32m---> 21\u001b[0;31m \u001b[0mnp\u001b[0m\u001b[0;34m.\u001b[0m\u001b[0msavetxt\u001b[0m\u001b[0;34m(\u001b[0m\u001b[0mfilename\u001b[0m\u001b[0;34m,\u001b[0m \u001b[0mclassification_report\u001b[0m\u001b[0;34m(\u001b[0m\u001b[0mt_test\u001b[0m\u001b[0;34m,\u001b[0m \u001b[0mpred\u001b[0m\u001b[0;34m)\u001b[0m\u001b[0;34m)\u001b[0m\u001b[0;34m\u001b[0m\u001b[0;34m\u001b[0m\u001b[0m\n\u001b[0m",
            "\u001b[0;32m/usr/local/lib/python3.9/dist-packages/numpy/core/overrides.py\u001b[0m in \u001b[0;36msavetxt\u001b[0;34m(*args, **kwargs)\u001b[0m\n",
            "\u001b[0;32m/usr/local/lib/python3.9/dist-packages/numpy/lib/npyio.py\u001b[0m in \u001b[0;36msavetxt\u001b[0;34m(fname, X, fmt, delimiter, newline, header, footer, comments, encoding)\u001b[0m\n\u001b[1;32m   1395\u001b[0m         \u001b[0;31m# Handle 1-dimensional arrays\u001b[0m\u001b[0;34m\u001b[0m\u001b[0;34m\u001b[0m\u001b[0m\n\u001b[1;32m   1396\u001b[0m         \u001b[0;32mif\u001b[0m \u001b[0mX\u001b[0m\u001b[0;34m.\u001b[0m\u001b[0mndim\u001b[0m \u001b[0;34m==\u001b[0m \u001b[0;36m0\u001b[0m \u001b[0;32mor\u001b[0m \u001b[0mX\u001b[0m\u001b[0;34m.\u001b[0m\u001b[0mndim\u001b[0m \u001b[0;34m>\u001b[0m \u001b[0;36m2\u001b[0m\u001b[0;34m:\u001b[0m\u001b[0;34m\u001b[0m\u001b[0;34m\u001b[0m\u001b[0m\n\u001b[0;32m-> 1397\u001b[0;31m             raise ValueError(\n\u001b[0m\u001b[1;32m   1398\u001b[0m                 \"Expected 1D or 2D array, got %dD array instead\" % X.ndim)\n\u001b[1;32m   1399\u001b[0m         \u001b[0;32melif\u001b[0m \u001b[0mX\u001b[0m\u001b[0;34m.\u001b[0m\u001b[0mndim\u001b[0m \u001b[0;34m==\u001b[0m \u001b[0;36m1\u001b[0m\u001b[0;34m:\u001b[0m\u001b[0;34m\u001b[0m\u001b[0;34m\u001b[0m\u001b[0m\n",
            "\u001b[0;31mValueError\u001b[0m: Expected 1D or 2D array, got 0D array instead"
          ]
        }
      ]
    }
  ]
}