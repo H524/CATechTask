{
  "nbformat": 4,
  "nbformat_minor": 0,
  "metadata": {
    "colab": {
      "provenance": [],
      "authorship_tag": "ABX9TyOWP8bMgux92tnpv/vi2nBo",
      "include_colab_link": true
    },
    "kernelspec": {
      "name": "python3",
      "display_name": "Python 3"
    },
    "language_info": {
      "name": "python"
    }
  },
  "cells": [
    {
      "cell_type": "markdown",
      "metadata": {
        "id": "view-in-github",
        "colab_type": "text"
      },
      "source": [
        "<a href=\"https://colab.research.google.com/github/H524/CATechTask/blob/main/task1_table_data/code/task1.ipynb\" target=\"_parent\"><img src=\"https://colab.research.google.com/assets/colab-badge.svg\" alt=\"Open In Colab\"/></a>"
      ]
    },
    {
      "cell_type": "code",
      "source": [
        "# import\n",
        "\n",
        "# dataset\n",
        "from sklearn import datasets\n",
        "\n",
        "# util\n",
        "from sklearn.model_selection import train_test_split\n",
        "from sklearn.linear_model import LinearRegression\n",
        "\n",
        "# model\n",
        "# SVM\n",
        "from sklearn import svm\n",
        "\n",
        "# random forest\n",
        "from sklearn.ensemble import RandomForestClassifier"
      ],
      "metadata": {
        "id": "rh30YIXXEDwy"
      },
      "execution_count": 5,
      "outputs": []
    },
    {
      "cell_type": "code",
      "source": [
        "# load\n",
        "dataset = datasets.fetch_covtype()\n",
        "x = dataset.data\n",
        "t = dataset.target\n",
        "x_train, x_test, t_train, t_test = train_test_split(x, t, test_size=0.3, random_state=0)"
      ],
      "metadata": {
        "id": "hZm9V650HF95"
      },
      "execution_count": 6,
      "outputs": []
    },
    {
      "cell_type": "code",
      "execution_count": null,
      "metadata": {
        "id": "4XiALS-l_XwK"
      },
      "outputs": [],
      "source": [
        "\n",
        "\n",
        "# dataset = datasets.fetch_covtype()\n",
        "# x = dataset.data\n",
        "# t = dataset.target\n",
        "\n",
        "# x_train, x_test, t_train, t_test = train_test_split(x, t, test_size=0.3, random_state=0)\n",
        "\n",
        "# clf = svm.SVC(kernel='linear', C=1).fit(x_train, t_train)\n",
        "# clf.score(x_test, t_test)\n",
        "\n",
        "# reg_model = LinearRegression()\n",
        "\n",
        "# reg_model.fit(x_train, t_train)\n",
        "\n",
        "\n",
        "\n",
        "# print(reg_model.score(x_train, t_train))"
      ]
    },
    {
      "cell_type": "code",
      "source": [
        "# main random forest\n",
        "randomforest = RandomForestClassifier()\n",
        "randomforest.fit(x_train, t_train)\n",
        "pred = randomforest.predict(x_test)"
      ],
      "metadata": {
        "id": "adx-MrJsG8sQ"
      },
      "execution_count": null,
      "outputs": []
    },
    {
      "cell_type": "markdown",
      "source": [],
      "metadata": {
        "id": "1cU9bgxkHMvP"
      }
    },
    {
      "cell_type": "code",
      "source": [
        "# output\n",
        "# print(pred)\n",
        "# clf.score(x_test, t_test)\n",
        "\n",
        "# reg_model = LinearRegression()\n",
        "\n",
        "# reg_model.fit(x_train, t_train)\n",
        "\n",
        "\n",
        "\n",
        "# print(reg_model.score(x_train, t_train))\n",
        "\n",
        "from google.colab import files\n",
        "\n",
        "filename = 'output.csv'\n",
        "with open(filename, 'w') as f:\n",
        "  f.write(pred)\n",
        "\n",
        "files.download(filename)"
      ],
      "metadata": {
        "id": "PuV5nuDvEE_B"
      },
      "execution_count": null,
      "outputs": []
    }
  ]
}