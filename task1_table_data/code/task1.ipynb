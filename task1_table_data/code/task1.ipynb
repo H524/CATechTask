{
  "nbformat": 4,
  "nbformat_minor": 0,
  "metadata": {
    "colab": {
      "provenance": [],
      "authorship_tag": "ABX9TyOuBYbga8PwgXoCDLt+0Vqg",
      "include_colab_link": true
    },
    "kernelspec": {
      "name": "python3",
      "display_name": "Python 3"
    },
    "language_info": {
      "name": "python"
    }
  },
  "cells": [
    {
      "cell_type": "markdown",
      "metadata": {
        "id": "view-in-github",
        "colab_type": "text"
      },
      "source": [
        "<a href=\"https://colab.research.google.com/github/H524/CATechTask/blob/main/task1_table_data/code/task1.ipynb\" target=\"_parent\"><img src=\"https://colab.research.google.com/assets/colab-badge.svg\" alt=\"Open In Colab\"/></a>"
      ]
    },
    {
      "cell_type": "code",
      "source": [
        "from google.colab import drive\n",
        "drive.mount('/content/drive')"
      ],
      "metadata": {
        "id": "Nzx6SabmChxP",
        "outputId": "918ae794-59d5-424f-b7b5-2b07d64b919d",
        "colab": {
          "base_uri": "https://localhost:8080/"
        }
      },
      "execution_count": 6,
      "outputs": [
        {
          "output_type": "stream",
          "name": "stdout",
          "text": [
            "Mounted at /content/drive\n"
          ]
        }
      ]
    },
    {
      "cell_type": "code",
      "source": [
        "%cd /content/drive/My Drive/Colab Notebooks"
      ],
      "metadata": {
        "id": "in3L16_kC2KW",
        "outputId": "0cde8619-5d7d-44da-c8e5-a656b6dff12b",
        "colab": {
          "base_uri": "https://localhost:8080/"
        }
      },
      "execution_count": 7,
      "outputs": [
        {
          "output_type": "stream",
          "name": "stdout",
          "text": [
            "/content/drive/My Drive/Colab Notebooks\n"
          ]
        }
      ]
    },
    {
      "cell_type": "code",
      "source": [
        "# import\n",
        "\n",
        "# dataset\n",
        "from sklearn import datasets\n",
        "\n",
        "# util\n",
        "from sklearn.model_selection import train_test_split\n",
        "from sklearn.model_selection import cross_val_score\n",
        "\n",
        "from sklearn.linear_model import LinearRegression\n",
        "# from sklearn.metrics import accuracy_score\n",
        "# from sklearn.metrics import precision_score\n",
        "# from sklearn.metrics import recall_score\n",
        "from sklearn.metrics import classification_report\n",
        "\n",
        "import pandas as pd\n",
        "import numpy as np\n",
        "\n",
        "# model\n",
        "# SVM\n",
        "from sklearn import svm\n",
        "\n",
        "# random forest\n",
        "from sklearn.ensemble import RandomForestClassifier"
      ],
      "metadata": {
        "id": "rh30YIXXEDwy"
      },
      "execution_count": 10,
      "outputs": []
    },
    {
      "cell_type": "code",
      "source": [
        "# load\n",
        "dataset = datasets.fetch_covtype()\n",
        "x_train, x_test, t_train, t_test = train_test_split(dataset.data, dataset.target, test_size=0.3, random_state=0)"
      ],
      "metadata": {
        "id": "hZm9V650HF95"
      },
      "execution_count": 2,
      "outputs": []
    },
    {
      "cell_type": "code",
      "execution_count": 3,
      "metadata": {
        "id": "4XiALS-l_XwK"
      },
      "outputs": [],
      "source": [
        "\n",
        "\n",
        "# dataset = datasets.fetch_covtype()\n",
        "# x = dataset.data\n",
        "# t = dataset.target\n",
        "\n",
        "# x_train, x_test, t_train, t_test = train_test_split(x, t, test_size=0.3, random_state=0)\n",
        "\n",
        "# clf = svm.SVC(kernel='linear', C=1).fit(x_train, t_train)\n",
        "# clf.score(x_test, t_test)\n",
        "\n",
        "# reg_model = LinearRegression()\n",
        "\n",
        "# reg_model.fit(x_train, t_train)\n",
        "\n",
        "\n",
        "\n",
        "# print(reg_model.score(x_train, t_train))"
      ]
    },
    {
      "cell_type": "code",
      "source": [
        "# main random forest\n",
        "randomforest = RandomForestClassifier()\n",
        "randomforest.fit(x_train, t_train)\n",
        "pred = randomforest.predict(x_test)"
      ],
      "metadata": {
        "id": "adx-MrJsG8sQ"
      },
      "execution_count": 4,
      "outputs": []
    },
    {
      "cell_type": "code",
      "source": [
        "# score = accuracy_score(t_test, pred)\n",
        "# print('正解率:')\n",
        "# print(score)\n",
        "\n",
        "# print('適合率')\n",
        "# print(precision_score(t_test, pred, average=\"macro\"))\n",
        "\n",
        "# print('再現率')\n",
        "# print(recall_score(t_test, pred, average=\"macro\"))\n",
        "\n",
        "print('レポート')\n",
        "print(classification_report(t_test, pred))"
      ],
      "metadata": {
        "id": "ukc3pLBD31Ie",
        "outputId": "fa327a79-969c-4128-e05a-0b0cd45cead2",
        "colab": {
          "base_uri": "https://localhost:8080/"
        }
      },
      "execution_count": 5,
      "outputs": [
        {
          "output_type": "stream",
          "name": "stdout",
          "text": [
            "レポート\n",
            "              precision    recall  f1-score   support\n",
            "\n",
            "           1       0.96      0.94      0.95     63498\n",
            "           2       0.95      0.97      0.96     85198\n",
            "           3       0.94      0.96      0.95     10581\n",
            "           4       0.91      0.84      0.87       822\n",
            "           5       0.94      0.77      0.85      2850\n",
            "           6       0.93      0.89      0.91      5229\n",
            "           7       0.97      0.95      0.96      6126\n",
            "\n",
            "    accuracy                           0.95    174304\n",
            "   macro avg       0.94      0.90      0.92    174304\n",
            "weighted avg       0.95      0.95      0.95    174304\n",
            "\n"
          ]
        }
      ]
    },
    {
      "cell_type": "code",
      "source": [
        "# cross validation\n",
        "\n",
        "# 交差検証\n",
        "scores = cross_val_score(randomforest, dataset.data, dataset.target)\n",
        "# 各分割におけるスコア\n",
        "print('Cross-Validation scores: {}'.format(scores))\n",
        "# スコアの平均値\n",
        "import numpy as np\n",
        "print('Average score: {}'.format(np.mean(scores)))"
      ],
      "metadata": {
        "id": "e68mBDBnQkEx",
        "outputId": "8aab211c-09c8-4301-fdb0-26ccef37a2e8",
        "colab": {
          "base_uri": "https://localhost:8080/"
        }
      },
      "execution_count": 11,
      "outputs": [
        {
          "output_type": "stream",
          "name": "stdout",
          "text": [
            "Cross-Validation scores: [0.62843472 0.55837629 0.55524001 0.60508425 0.63597012]\n",
            "Average score: 0.5966210791363113\n"
          ]
        }
      ]
    },
    {
      "cell_type": "code",
      "source": [
        "# output\n",
        "# print(pred)\n",
        "# clf.score(x_test, t_test)\n",
        "\n",
        "# reg_model = LinearRegression()\n",
        "\n",
        "# reg_model.fit(x_train, t_train)\n",
        "\n",
        "\n",
        "\n",
        "# print(reg_model.score(x_train, t_train))\n",
        "\n",
        "# from google.colab import files\n",
        "\n",
        "filename = 'output.csv'\n",
        "# with open(filename, 'w') as f:\n",
        "#   f.write(a)\n",
        "\n",
        "# files.download(filename)\n",
        "\n",
        "np.savetxt(filename, x_test) "
      ],
      "metadata": {
        "id": "PuV5nuDvEE_B"
      },
      "execution_count": 8,
      "outputs": []
    }
  ]
}